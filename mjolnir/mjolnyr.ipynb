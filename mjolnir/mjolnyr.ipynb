{
 "cells": [
  {
   "cell_type": "code",
   "execution_count": null,
   "metadata": {},
   "outputs": [],
   "source": [
    "# All configs\n",
    "\n",
    "data_path = \"../spunup_tsrt_r50/\"\n",
    "\n",
    "output_path = \"../spunup_tsrt_r50/report\"\n",
    "\n",
    "# path to mjolnir from execution directory, used if ran in another folder, e.g. with 'muninn' script\n",
    "mjolnir_path = \"./\"\n",
    "\n",
    "FIGSIZE_x = 10\n",
    "FIGSIZE_y = 7\n",
    "\n",
    "VIDEO_x = 1280\n",
    "VIDEO_DISPLAY_x = 800\n",
    "dpi = 296"
   ]
  },
  {
   "cell_type": "code",
   "execution_count": null,
   "metadata": {},
   "outputs": [],
   "source": [
    "# path to mjolnir code\n",
    "import sys\n",
    "sys.path.append(mjolnir_path) \n",
    "\n",
    "import pathlib\n",
    "import re\n",
    "\n",
    "import h5py\n",
    "import imageio\n",
    "import IPython.display as disp\n",
    "\n",
    "import math\n",
    "\n",
    "#%matplotlib notebook\n",
    "%matplotlib inline\n",
    "import matplotlib.pyplot as plt\n",
    "import numpy as np\n",
    "from PIL import Image, ImageDraw, ImageFont, ImageOps\n",
    "from matplotlib.backends.backend_agg import FigureCanvasAgg\n",
    "# from pygifsicle import optimize\n",
    "\n",
    "import hamarr as ham\n",
    "import mjolnir_plot_helper as mph\n",
    "from file_helpers import get_path_matching_regex, get_path_matching_regex_with_groups"
   ]
  },
  {
   "cell_type": "code",
   "execution_count": null,
   "metadata": {},
   "outputs": [],
   "source": [
    "exp_path = pathlib.Path(data_path) \n",
    "output_dir = pathlib.Path(output_path)\n",
    "\n",
    "FIGSIZE = (FIGSIZE_x, FIGSIZE_y)\n",
    "\n"
   ]
  },
  {
   "cell_type": "code",
   "execution_count": null,
   "metadata": {},
   "outputs": [],
   "source": [
    "# get planet file\n",
    "\n",
    "planet_files = get_path_matching_regex_with_groups(\n",
    "    exp_path, f\"esp_output_planet_(.+).h5\"\n",
    ")\n",
    "\n",
    "if len(planet_files) == 1:\n",
    "    planet_name = planet_files[0]['groups'][0] \n",
    "    planet_file = planet_files[0]['path']\n",
    "    \n",
    "    print(f\"Found planet name '{planet_name}'\")\n",
    "else:\n",
    "    raise Exception(\"Error looking for single planet files. Found:\", planet_files)"
   ]
  },
  {
   "cell_type": "code",
   "execution_count": null,
   "metadata": {},
   "outputs": [],
   "source": [
    "# get grid file\n",
    "\n",
    "grid_files = get_path_matching_regex_with_groups(\n",
    "    exp_path, f\"esp_output_grid_(.+).h5\"\n",
    ")\n",
    "\n",
    "if len(grid_files) == 1:\n",
    "    planet_g_name = grid_files[0]['groups'][0] \n",
    "    grid_file = grid_files[0]['path']\n",
    "    \n",
    "    print(f\"Found grid file '{grid_file}'\")\n",
    "else:\n",
    "    raise Exception(\"Error looking for single grid files. Found:\", grid_files)"
   ]
  },
  {
   "cell_type": "code",
   "execution_count": null,
   "metadata": {},
   "outputs": [],
   "source": [
    "print()\n",
    "print(\"Planet Parameters\")\n",
    "print(\"=================\")\n",
    "print()\n",
    "\n",
    "with h5py.File(planet_file, 'r') as p:\n",
    "    for k in p.keys():\n",
    "        print(f\"{k:<30}: {str(p[k][...]):>15}\")\n",
    "    \n",
    "    has_TSRT = \"two_streams_radiative_transfer\" in p\n",
    "    has_RT = \"radiative_transfer\" in p\n",
    "    \n",
    "    print()\n",
    "    print(\"Modules\")\n",
    "    print(\"-------\")\n",
    "    print()\n",
    "    print(f\"Radiative transfer: {has_RT}\")\n",
    "    print(f\"Two stream radiative transfer: {has_TSRT}\")"
   ]
  },
  {
   "cell_type": "code",
   "execution_count": null,
   "metadata": {},
   "outputs": [],
   "source": [
    "print()\n",
    "print(\"Grid Parameters\")\n",
    "print(\"===============\")\n",
    "print()\n",
    "\n",
    "with h5py.File(grid_file, 'r') as g:\n",
    "    # print(g.keys())\n",
    "              \n",
    "    #for k in g.keys():\n",
    "    #    print(f\"{k:<30}: {str(g[k][...]):>15}\")\n",
    "    print(f\"{'nv':<30}: {str(g['nv'][...]):>15}\" )\n",
    "    print(f\"{'point_num':<30}: {str(g['point_num'][...]):>15}\" )"
   ]
  },
  {
   "cell_type": "code",
   "execution_count": null,
   "metadata": {},
   "outputs": [],
   "source": [
    "# get count of output files\n",
    "outputs = get_path_matching_regex_with_groups(\n",
    "    exp_path, f\"esp_output_{planet_name}_(\\d+).h5\"\n",
    ")\n",
    "\n",
    "# sort'em\n",
    "d = {}\n",
    "\n",
    "for o in outputs:\n",
    "    p = o[\"path\"]\n",
    "    (idx_chr,) = o[\"groups\"]\n",
    "    idx = int(idx_chr)\n",
    "    # print(f\"{idx} - {p}\")\n",
    "    d[idx] = p\n",
    "\n",
    "sorted_files = sorted(d.items())\n",
    "\n",
    "\n",
    "first_idx = sorted_files[0][0]\n",
    "last_idx = sorted_files[-2][0]\n",
    "#last_idx = 20\n",
    "\n",
    "print()\n",
    "print(\"Output files\")\n",
    "print(\"============\")\n",
    "print()\n",
    "\n",
    "print(f\"First index: {first_idx}\")\n",
    "print(f\"Last index: {last_idx}\")\n",
    "\n",
    "\n",
    "\n"
   ]
  },
  {
   "cell_type": "code",
   "execution_count": null,
   "metadata": {},
   "outputs": [],
   "source": [
    "class args:\n",
    "    pass\n",
    "\n",
    "\n",
    "file_idx = 1\n",
    "\n",
    "args.pview = [\"fuptot\"]\n",
    "args.file = [str(exp_path)]\n",
    "args.simulation_ID = [\"auto\"]\n",
    "args.initial_file = [file_idx]\n",
    "args.last_file = [file_idx]\n",
    "args.horizontal_lev = [2.5e2]\n",
    "args.vertical_top = [\"default\"]\n",
    "args.split_layer = [\"no_split\"]\n",
    "args.coordinate_sys = [\"icoh\"]\n",
    "args.lmax_adjust = [0]\n",
    "args.slice = [0, 180]\n",
    "args.maketable = False\n",
    "args.no_pressure_log = False\n",
    "args.latlonswap = False\n",
    "args.vcoord = [\"pressure\"]\n",
    "args.pgrid_ref = [f\"pgrid_{file_idx}_{file_idx}_1.txt\"]\n",
    "args.clevels = [40]"
   ]
  },
  {
   "cell_type": "code",
   "execution_count": null,
   "metadata": {},
   "outputs": [],
   "source": [
    "figures_dir = exp_path / \"figures\"\n",
    "if not figures_dir.exists():\n",
    "    figures_dir.mkdir(parents=True, exist_ok=True)\n",
    "    \n",
    "if not output_dir.exists():\n",
    "    output_dir.mkdir(parents=True, exist_ok=True)"
   ]
  },
  {
   "cell_type": "code",
   "execution_count": null,
   "metadata": {},
   "outputs": [],
   "source": [
    "def plot_anim_steps(first_idx, last_idx, args, plot_filename, overwrite_anim=False):\n",
    "    \"\"\"Make a movie using args for mjolnir plotting functions, run over all the indexed files\"\"\"\n",
    "    stride = 1\n",
    "    overwrite = False\n",
    "    output_anim_file = output_dir / plot_filename\n",
    "\n",
    "    if output_anim_file.exists() and not overwrite_anim:\n",
    "        print(\n",
    "            f\"{output_anim_file} already exists, skipping. Set overwrite_anim = True to force\"\n",
    "        )\n",
    "        return output_anim_file\n",
    "\n",
    "    fps = 10\n",
    "    # writer = imageio.get_writer(str(output_image), fps=fps, quality=10)\n",
    "    writer = imageio.get_writer(str(output_anim_file), fps=fps)\n",
    "\n",
    "    # for dev, force to use a small number of files\n",
    "    # last_idx  = 20\n",
    "    # compute fig size so that it gets rounded to closest multiple of video macro_block_size\n",
    "    block_size = 16\n",
    "    fs_x = (math.ceil((FIGSIZE_x*dpi)/float(block_size))*block_size)/dpi\n",
    "    fs_y = (math.ceil((FIGSIZE_y*dpi)/float(block_size))*block_size)/dpi\n",
    "    \n",
    "    fig = plt.Figure(figsize=(fs_x, fs_y), dpi=dpi)\n",
    "    ax = fig.subplots(1, 1)\n",
    "    \n",
    "    #size=(VIDEO_x, int(VIDEO_x/FIGSIZE_x*FIGSIZE_y))\n",
    "\n",
    "    for i in range(first_idx, last_idx + 1):\n",
    "\n",
    "        print(f\"plotting: {i: 5}/{last_idx}\\r\", end=\"\")\n",
    "        args.initial_file = [i]\n",
    "        args.last_file = [i]\n",
    "        args.pgrid_ref = [f\"pgrid_{i}_{i}_1.txt\"]\n",
    "\n",
    "        fig.clear()\n",
    "        ax = fig.add_subplot(111)\n",
    "\n",
    "        pgrid_ref = exp_path / args.pgrid_ref[0]\n",
    "        if pgrid_ref.exists():\n",
    "            pass\n",
    "        else:\n",
    "            ham.define_Pgrid(\n",
    "                args.file[0],\n",
    "                planet_name,\n",
    "                args.initial_file[0],\n",
    "                args.last_file[0],\n",
    "                stride,\n",
    "                overwrite=overwrite,\n",
    "            )\n",
    "\n",
    "        mph.make_plot(args, False, axis=(fig, ax))\n",
    "\n",
    "        # canvas = fig.canvas\n",
    "        canvas = FigureCanvasAgg(fig)\n",
    "\n",
    "        # Option 2: Retrieve a view on the renderer buffer...\n",
    "        canvas.draw()\n",
    "        buf = canvas.buffer_rgba()\n",
    "        # ... convert to a NumPy array ...\n",
    "        X = np.asarray(buf)\n",
    "        # ... and pass it to PIL.\n",
    "        # im = Image.fromarray(X)\n",
    "\n",
    "        #import pdb; pdb.set_trace()\n",
    "        writer.append_data(X)\n",
    "\n",
    "    writer.close()\n",
    "\n",
    "    # optimize gif output\n",
    "    #optimize(str(output_image))\n",
    "\n",
    "    return output_anim_file\n",
    "\n",
    "\n",
    "def plot_steps(plot_type, first_idx, last_idx, args):\n",
    "    #fig, ((ax_first, ax_last), (ax_second, ax_mid)) = plt.subplots(\n",
    "    #    2, 2, figsize=FIGSIZE\n",
    "    #)\n",
    "    fig = plt.Figure(figsize=FIGSIZE)\n",
    "    ((ax_first, ax_last), (ax_second, ax_mid)) = fig.subplots(2,2)\n",
    "\n",
    "    i = first_idx\n",
    "    args.pview = [plot_type]\n",
    "    args.initial_file = [i]\n",
    "    args.last_file = [i]\n",
    "    args.pgrid_ref = [f\"pgrid_{i}_{i}_1.txt\"]\n",
    "\n",
    "    mph.make_plot(args, False, axis=(fig, ax_first))\n",
    "    ttl = ax_first.get_title()\n",
    "    ax_first.set_title(ttl + \"\\n\" + \"Initial (idx=0)\")\n",
    "\n",
    "    i = last_idx\n",
    "    args.pview = [plot_type]\n",
    "    args.initial_file = [i]\n",
    "    args.last_file = [i]\n",
    "    args.pgrid_ref = [f\"pgrid_{i}_{i}_1.txt\"]\n",
    "\n",
    "    mph.make_plot(args, False, axis=(fig, ax_last))\n",
    "    ttl = ax_last.get_title()\n",
    "    ax_last.set_title(ttl + \"\\n\" + f\"Last (idx={i})\")\n",
    "\n",
    "    i = 1\n",
    "    args.pview = [plot_type]\n",
    "    args.initial_file = [i]\n",
    "    args.last_file = [i]\n",
    "    args.pgrid_ref = [f\"pgrid_{i}_{i}_1.txt\"]\n",
    "\n",
    "    mph.make_plot(args, False, axis=(fig, ax_second))\n",
    "    ttl = ax_second.get_title()\n",
    "    ax_second.set_title(ttl + \"\\n\" + \"First step (idx=1)\")\n",
    "\n",
    "    i = (last_idx - first_idx) // 2\n",
    "    args.pview = [plot_type]\n",
    "    args.initial_file = [i]\n",
    "    args.last_file = [i]\n",
    "    args.pgrid_ref = [f\"pgrid_{i}_{i}_1.txt\"]\n",
    "\n",
    "    mph.make_plot(args, False, axis=(fig, ax_mid))\n",
    "    ttl = ax_mid.get_title()\n",
    "    ax_mid.set_title(ttl + \"\\n\" + f\"Middle step (idx={i})\")\n",
    "    \n",
    "    return fig"
   ]
  },
  {
   "cell_type": "code",
   "execution_count": null,
   "metadata": {},
   "outputs": [],
   "source": [
    "def plot_anim(plotname, plotfile, first, last, args):\n",
    "    print(f\"plotting {plotname} to {plotfile}\")\n",
    "    args.pview = [plotname]\n",
    "    # don't show interactive plots when not asked to\n",
    "\n",
    "    output_image = plot_anim_steps(first_idx, last_idx, args, plotfile)\n",
    "\n",
    "    #im = Image.open(output_image)\n",
    "    return disp.Video(output_image,width=VIDEO_DISPLAY_x)"
   ]
  },
  {
   "cell_type": "code",
   "execution_count": null,
   "metadata": {},
   "outputs": [],
   "source": [
    "# plots = [\n",
    "#          (\"TP\", \"TP_anim.gif\"),\n",
    "#          (\"Tver\", \"Tver_anim.gif\"),\n",
    "#          (\"Tlonver\", \"Tver_anim.gif\"),\n",
    "#          (\"fuptot\", \"fuptot_anim.gif\"),\n",
    "#          (\"fdowntot\", \"fdowntot_anim.gif\"),\n",
    "#          (\"fnet\", \"fnet_anim.gif\"),\n",
    "#          (\"qheat\", \"qheat_anim.gif\"),\n",
    "#          (\"futprof\", \"futprof_anim.gif\"),\n",
    "#          (\"fdtprof\", \"fdtprof_anim.gif\"),\n",
    "#          (\"fnetprof\", \"fnetprof_anim.gif\"),\n",
    "#         ]\n",
    "\n",
    "# for plotname, plotfile in plots:\n",
    "#     print(f\"plotting {plotname} to {plotfile}\")\n",
    "#     args.pview = [plotname]\n",
    "#     output_image = plot_anim_steps(first_idx, last_idx, args, plotfile)\n",
    "#     im = Image.open(output_image)\n",
    "#     disp.Image(output_image, format=\"gif\")"
   ]
  },
  {
   "cell_type": "markdown",
   "metadata": {},
   "source": [
    "# TP Profile"
   ]
  },
  {
   "cell_type": "code",
   "execution_count": null,
   "metadata": {},
   "outputs": [],
   "source": [
    "plot_anim(\"TP\", \"TP_anim.mp4\", first_idx, last_idx, args)"
   ]
  },
  {
   "cell_type": "code",
   "execution_count": null,
   "metadata": {},
   "outputs": [],
   "source": [
    "plot_steps(\"TP\", first_idx, last_idx, args)"
   ]
  },
  {
   "cell_type": "markdown",
   "metadata": {},
   "source": [
    "# Tver"
   ]
  },
  {
   "cell_type": "code",
   "execution_count": null,
   "metadata": {},
   "outputs": [],
   "source": [
    "plot_anim(\"Tver\", \"Tver_anim.mp4\", first_idx, last_idx, args)"
   ]
  },
  {
   "cell_type": "code",
   "execution_count": null,
   "metadata": {},
   "outputs": [],
   "source": [
    "plot_steps(\"Tver\", first_idx, last_idx, args)"
   ]
  },
  {
   "cell_type": "markdown",
   "metadata": {},
   "source": [
    "# Tlonver"
   ]
  },
  {
   "cell_type": "code",
   "execution_count": null,
   "metadata": {},
   "outputs": [],
   "source": [
    "plot_anim(\"Tlonver\", \"Tlonver_anim.mp4\", first_idx, last_idx, args)"
   ]
  },
  {
   "cell_type": "code",
   "execution_count": null,
   "metadata": {},
   "outputs": [],
   "source": [
    "plot_steps(\"Tlonver\", first_idx, last_idx, args)"
   ]
  },
  {
   "cell_type": "markdown",
   "metadata": {},
   "source": [
    "# Zonal wind profile ulev"
   ]
  },
  {
   "cell_type": "code",
   "execution_count": null,
   "metadata": {},
   "outputs": [],
   "source": [
    "plot_anim(\"uver\", \"uver_anim.mp4\", first_idx, last_idx, args)"
   ]
  },
  {
   "cell_type": "code",
   "execution_count": null,
   "metadata": {},
   "outputs": [],
   "source": [
    "plot_steps(\"uver\", first_idx, last_idx, args)"
   ]
  },
  {
   "cell_type": "markdown",
   "metadata": {},
   "source": [
    "# Two Stream Radiative transfer"
   ]
  },
  {
   "cell_type": "code",
   "execution_count": null,
   "metadata": {},
   "outputs": [],
   "source": [
    "if has_TSRT:\n",
    "    print(\"Two Stream Radiative Transfer Enabled\")\n",
    "else:\n",
    "    print(\"Two Stream Radiative Transfer Disabled, no plots will appear in this group\")"
   ]
  },
  {
   "cell_type": "markdown",
   "metadata": {},
   "source": [
    "## Qheat"
   ]
  },
  {
   "cell_type": "code",
   "execution_count": null,
   "metadata": {},
   "outputs": [],
   "source": [
    "pa = None\n",
    "if has_TSRT:\n",
    "    pa = plot_anim(\"qheat\", \"qheat_anim.mp4\", first_idx, last_idx, args)\n",
    "    \n",
    "pa"
   ]
  },
  {
   "cell_type": "code",
   "execution_count": null,
   "metadata": {},
   "outputs": [],
   "source": [
    "if has_TSRT:\n",
    "    plot_steps(\"qheat\", first_idx, last_idx, args)"
   ]
  },
  {
   "cell_type": "markdown",
   "metadata": {},
   "source": [
    "## Total Upward Flux \n",
    "\n",
    "### Profile"
   ]
  },
  {
   "cell_type": "code",
   "execution_count": null,
   "metadata": {},
   "outputs": [],
   "source": [
    "pa = None\n",
    "if has_TSRT:\n",
    "    pa = plot_anim(\"TSfutprof\", \"futprof_anim.mp4\", first_idx, last_idx, args)\n",
    "\n",
    "pa"
   ]
  },
  {
   "cell_type": "code",
   "execution_count": null,
   "metadata": {},
   "outputs": [],
   "source": [
    "if has_TSRT:\n",
    "    plot_steps(\"TSfutprof\", first_idx, last_idx, args)"
   ]
  },
  {
   "cell_type": "markdown",
   "metadata": {},
   "source": [
    "### Horizontal"
   ]
  },
  {
   "cell_type": "code",
   "execution_count": null,
   "metadata": {},
   "outputs": [],
   "source": [
    "pa = None\n",
    "if has_TSRT:\n",
    "    pa = plot_anim(\"TSfuptot\", \"fuptot_anim.mp4\", first_idx, last_idx, args)\n",
    "    \n",
    "pa"
   ]
  },
  {
   "cell_type": "code",
   "execution_count": null,
   "metadata": {},
   "outputs": [],
   "source": [
    "if has_TSRT:\n",
    "    plot_steps(\"TSfuptot\", first_idx, last_idx, args)"
   ]
  },
  {
   "cell_type": "markdown",
   "metadata": {},
   "source": [
    "## Total Downward Flux \n",
    "\n",
    "### Profile"
   ]
  },
  {
   "cell_type": "code",
   "execution_count": null,
   "metadata": {},
   "outputs": [],
   "source": [
    "pa = None\n",
    "if has_TSRT:\n",
    "    pa = plot_anim(\"TSfdtprof\", \"fdtprof_anim.mp4\", first_idx, last_idx, args)\n",
    "    \n",
    "pa"
   ]
  },
  {
   "cell_type": "code",
   "execution_count": null,
   "metadata": {},
   "outputs": [],
   "source": [
    "if has_TSRT:\n",
    "    plot_steps(\"TSfdtprof\", first_idx, last_idx, args)"
   ]
  },
  {
   "cell_type": "markdown",
   "metadata": {},
   "source": [
    "### Horizontal"
   ]
  },
  {
   "cell_type": "code",
   "execution_count": null,
   "metadata": {},
   "outputs": [],
   "source": [
    "pa = None\n",
    "if has_TSRT:\n",
    "    pa = plot_anim(\"TSfdowntot\", \"fdowntot_anim.mp4\", first_idx, last_idx, args)\n",
    "    \n",
    "pa"
   ]
  },
  {
   "cell_type": "code",
   "execution_count": null,
   "metadata": {},
   "outputs": [],
   "source": [
    "if has_TSRT:\n",
    "    plot_steps(\"TSfdowntot\", first_idx, last_idx, args)"
   ]
  },
  {
   "cell_type": "markdown",
   "metadata": {},
   "source": [
    "## Total Net Flux \n",
    "\n",
    "### Profile"
   ]
  },
  {
   "cell_type": "code",
   "execution_count": null,
   "metadata": {},
   "outputs": [],
   "source": [
    "pa = None \n",
    "\n",
    "if has_TSRT:\n",
    "    pa = plot_anim(\"TSfnetprof\", \"fnetprof_anim.mp4\", first_idx, last_idx, args)\n",
    "    \n",
    "pa"
   ]
  },
  {
   "cell_type": "code",
   "execution_count": null,
   "metadata": {},
   "outputs": [],
   "source": [
    "if has_TSRT:\n",
    "    plot_steps(\"TSfnetprof\", first_idx, last_idx, args)"
   ]
  },
  {
   "cell_type": "markdown",
   "metadata": {},
   "source": [
    "### Horizontal"
   ]
  },
  {
   "cell_type": "code",
   "execution_count": null,
   "metadata": {},
   "outputs": [],
   "source": [
    "pa = None\n",
    "if has_TSRT:\n",
    "    pa = plot_anim(\"TSfnet\", \"fnet_anim.mp4\", first_idx, last_idx, args)\n",
    "    \n",
    "pa"
   ]
  },
  {
   "cell_type": "code",
   "execution_count": null,
   "metadata": {},
   "outputs": [],
   "source": [
    "if has_TSRT:\n",
    "    plot_steps(\"TSfnet\", first_idx, last_idx, args)"
   ]
  },
  {
   "cell_type": "code",
   "execution_count": null,
   "metadata": {},
   "outputs": [],
   "source": []
  },
  {
   "cell_type": "code",
   "execution_count": null,
   "metadata": {},
   "outputs": [],
   "source": []
  }
 ],
 "metadata": {
  "kernelspec": {
   "display_name": "Python 3",
   "language": "python",
   "name": "python3"
  },
  "language_info": {
   "codemirror_mode": {
    "name": "ipython",
    "version": 3
   },
   "file_extension": ".py",
   "mimetype": "text/x-python",
   "name": "python",
   "nbconvert_exporter": "python",
   "pygments_lexer": "ipython3",
   "version": "3.8.2"
  }
 },
 "nbformat": 4,
 "nbformat_minor": 4
}
